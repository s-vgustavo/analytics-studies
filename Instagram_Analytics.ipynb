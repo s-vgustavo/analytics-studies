{
  "nbformat": 4,
  "nbformat_minor": 0,
  "metadata": {
    "colab": {
      "provenance": [],
      "mount_file_id": "1oQWWKV3inc0vGUJFLD9OT_z_snp1LEjT",
      "authorship_tag": "ABX9TyOGbNgzGNU9ggM/rEG4NWNf",
      "include_colab_link": true
    },
    "kernelspec": {
      "name": "python3",
      "display_name": "Python 3"
    },
    "language_info": {
      "name": "python"
    }
  },
  "cells": [
    {
      "cell_type": "markdown",
      "metadata": {
        "id": "view-in-github",
        "colab_type": "text"
      },
      "source": [
        "<a href=\"https://colab.research.google.com/github/s-vgustavo/analytics-studies/blob/main/Instagram_Analytics.ipynb\" target=\"_parent\"><img src=\"https://colab.research.google.com/assets/colab-badge.svg\" alt=\"Open In Colab\"/></a>"
      ]
    },
    {
      "cell_type": "markdown",
      "source": [
        "## Instagram analytics using Instagram Graph API\n",
        "\n",
        "This is a script developed for collecting data from Instagram for marketing analytics purposes.\n",
        "\n",
        "Current status: This code is able to collect data using Instagram Graph API and requests library, separating them into feed and reels metrics. \n",
        "\n",
        "Metrics obtained: number of feed posts, like in feed posts, comments in feed posts, number of posted reels, profile impressions and profile reach.\n",
        "\n",
        "Future improvements: Creation of an automation that stores data and continually builds a timeline with metrics."
      ],
      "metadata": {
        "id": "G8dBGAfI1KCf"
      }
    },
    {
      "cell_type": "markdown",
      "source": [
        "## 1. Defining endpoint parameters and authentication tokens\n",
        "Instagram Graph API, such as Facebook Graph API, uses authentication tokens, secrets, page ids and account ids that must be previously known in order to run this code.\n",
        "You can find more information on this links: https://towardsdatascience.com/discover-insights-from-your-instagram-business-account-with-facebook-graph-api-and-python-81d20ee2e751, https://developers.facebook.com/docs/graph-api/get-started/"
      ],
      "metadata": {
        "id": "N3cJ5ApG2Sx4"
      }
    },
    {
      "cell_type": "code",
      "execution_count": null,
      "metadata": {
        "id": "gTVZPocw3r8x"
      },
      "outputs": [],
      "source": [
        "# You can fill the initial information here\n",
        "#app_id = int\n",
        "#app_secret = int\n",
        "#page_id = int\n",
        "#instagram_account_id = int"
      ]
    },
    {
      "cell_type": "markdown",
      "source": [
        "We will start off importing libraries. For the purpose of this code, we will use requests, json, datetime and pandas.\n",
        "\n",
        "It is also necessary to set a parameters dictionary. This dictionary contains the access token, client id, client secret, graph domain, graph version, endpoint base, page id, instagram account id and instagram username."
      ],
      "metadata": {
        "id": "JypV4Wl13Kam"
      }
    },
    {
      "cell_type": "code",
      "source": [
        "# Importing libraries\n",
        "import requests\n",
        "import json\n",
        "import datetime\n",
        "import pandas as pd\n",
        "\n",
        "# Defining the parameters dictionary\n",
        "params = dict()\n",
        "params['access_token'] = 'string' \n",
        "params['client_id'] = 'string'     \n",
        "params['client_secret'] = 'string'     \n",
        "params['graph_domain'] = 'https://graph.facebook.com'\n",
        "params['graph_version'] = 'v15.0'\n",
        "params['endpoint_base'] = params['graph_domain'] + '/' + params['graph_version'] + '/'\n",
        "params['page_id'] = 'string'                 \n",
        "params['instagram_account_id'] = 'string'\n",
        "params['ig_username'] = 'string'"
      ],
      "metadata": {
        "id": "Ug4mpZffWGgk"
      },
      "execution_count": null,
      "outputs": []
    },
    {
      "cell_type": "markdown",
      "source": [
        "Following the parameters dictionary, we can begin by obtaining data about the access token. This is important because of two reasons:\n",
        "\n",
        "1) The first access token we get is the short-lived one. This means that it is valid only for a couple hours. If you, like me, are willing to use this code with some frequency, you will need to obtain the long-lived one.\n",
        "\n",
        "2) Access token data contains its expiration time. Now we are able to check when will it be required to reset the access token.  "
      ],
      "metadata": {
        "id": "yCQQJk-R3x_q"
      }
    },
    {
      "cell_type": "code",
      "source": [
        "# Defining endpoint parameters to obtain the access token data\n",
        "endpointParams = dict()\n",
        "endpointParams['input_token'] = params['access_token']\n",
        "endpointParams['access_token'] = params['access_token']\n",
        "\n",
        "# Defining the URL\n",
        "url = params['graph_domain'] + '/debug_token'\n",
        "\n",
        "# Requesting access token data\n",
        "data = requests.get(url, endpointParams)\n",
        "access_token_data = json.loads(data.content)\n",
        "access_token_data"
      ],
      "metadata": {
        "id": "Gn-T2221XS4Y"
      },
      "execution_count": null,
      "outputs": []
    },
    {
      "cell_type": "markdown",
      "source": [
        "Access token data, just as the other data obtained from Instagram Graph API, returns as a JSON file, which is equivalent to a python dictionary.\n",
        "\n",
        "With the code below, we will print the expiration date of the access token."
      ],
      "metadata": {
        "id": "lWI2kndO4u5x"
      }
    },
    {
      "cell_type": "code",
      "source": [
        "print(\"Token Expires: \", datetime.datetime.fromtimestamp(access_token_data['data']['expires_at']))"
      ],
      "metadata": {
        "id": "1MzNKlrAXf1q"
      },
      "execution_count": null,
      "outputs": []
    },
    {
      "cell_type": "markdown",
      "source": [
        "The present code is already changed so we use the long-lived access token. In case this is the first time you are using it, you will need it to obtain the long-lived token (using the short-lived one)."
      ],
      "metadata": {
        "id": "5Ku-xXSM5Fng"
      }
    },
    {
      "cell_type": "markdown",
      "source": [
        "## 2. Obtaining the long-lived access token"
      ],
      "metadata": {
        "id": "YFXjV04j5p9o"
      }
    },
    {
      "cell_type": "code",
      "source": [
        "\n",
        "# The following code is based on this Facebook API Endpoint:\n",
        "# https://graph.facebook.com/{graph-api-version}/oauth/access_token?grant_type=fb_exchange_token&client_id={app-id}&client_secret={app-secret}&fb_exchange_token={your-access-token}\n",
        "# Only in cases that access token is the short-lived token. Already changed the code so the access token is the long-lived one.\n",
        "\n",
        "# Defining the URL\n",
        "##url = params['endpoint_base'] + 'oauth/access_token'\n",
        "\n",
        "# Defining endpoint parameters\n",
        "##endpointParams = dict() \n",
        "##endpointParams['grant_type'] = 'fb_exchange_token'\n",
        "##endpointParams['client_id'] = params['client_id']\n",
        "##endpointParams['client_secret'] = params['client_secret']\n",
        "##endpointParams['fb_exchange_token'] = params['access_token']\n",
        "\n",
        "# Requesting data\n",
        "##data = requests.get(url, endpointParams )\n",
        "##long_lived_token = json.loads(data.content)\n",
        "\n",
        "# Changing access token so it is the long-lived.\n",
        "##params['access_token'] = long_lived_token['access_token']\n",
        "\n"
      ],
      "metadata": {
        "id": "agKN5SMaXkhf"
      },
      "execution_count": null,
      "outputs": []
    },
    {
      "cell_type": "markdown",
      "source": [
        "## 3. Obtaining media insights\n",
        "\n",
        "We will start by resetting the endpoint parameters and requesting the basic insights for media content: id, caption, media product, media type, media url, permalink, thumbnail url, timestamp, username, like and comments count.\n",
        "\n",
        "Then, we will do the same but for profile insights: impressions and reach.\n",
        "\n",
        "Both will return JSON files, which we can use to print the results after."
      ],
      "metadata": {
        "id": "Hsjb9HLP5ls7"
      }
    },
    {
      "cell_type": "code",
      "source": [
        "# Basic Media Insights\n",
        "# API Endpoint: https://graph.facebook.com/{graph-api-version}/{ig-user-id}/media?fields={fields}\n",
        "\n",
        "# Defining URL\n",
        "url = params['endpoint_base'] + params['instagram_account_id'] + '/media'\n",
        "\n",
        "# Defining endpoint parameters\n",
        "endpointParams = dict()\n",
        "endpointParams['fields'] = 'id,caption,media_product_type,media_type,media_url,permalink,thumbnail_url,timestamp,username,like_count,comments_count'\n",
        "endpointParams['access_token'] = params['access_token']\n",
        "\n",
        "# Requesting data\n",
        "data = requests.get(url, endpointParams )\n",
        "basic_insight = json.loads(data.content)\n",
        "\n",
        "# Basic profile insights\n",
        "# Defining URL\n",
        "url = params['endpoint_base'] + params['instagram_account_id'] + '/insights'\n",
        "\n",
        "# Defining endpoint parameters\n",
        "endpointParams = dict() \n",
        "endpointParams['metric'] = 'impressions,reach'\n",
        "endpointParams['period'] = 'week'\n",
        "endpointParams['access_token'] = params['access_token'] \n",
        "\n",
        "# Requesting data\n",
        "profile_data = requests.get(url, endpointParams)\n",
        "profile_data_json = json.loads(profile_data.content)\n"
      ],
      "metadata": {
        "id": "ycONH3mTZ2aq"
      },
      "execution_count": null,
      "outputs": []
    },
    {
      "cell_type": "markdown",
      "source": [
        "To understand how data was obtained, we will create a DataFrame object so we can visually see the information."
      ],
      "metadata": {
        "id": "di8_x0XB6kKJ"
      }
    },
    {
      "cell_type": "code",
      "source": [
        "# Creates a temporary dataframe for understanding and collecting data\n",
        "df_temp = pd.DataFrame(basic_insight['data'])"
      ],
      "metadata": {
        "id": "gqJMCyMwaLNr"
      },
      "execution_count": null,
      "outputs": []
    },
    {
      "cell_type": "markdown",
      "source": [
        "Finally, printing the results. Print statements are in portuguese, but you can change this with no problem."
      ],
      "metadata": {
        "id": "u-iXsNbn6yUy"
      }
    },
    {
      "cell_type": "code",
      "source": [
        "# Obtaining metrics\n",
        "timestamp = datetime.date.today()\n",
        "print('Data: ', timestamp)\n",
        "\n",
        "post_feed_instagram = len(df_temp[df_temp['media_product_type'] == 'FEED'])\n",
        "likes_feed = sum(df_temp[df_temp['media_product_type'] == 'FEED']['like_count'])\n",
        "comentarios_feed = sum(df_temp[df_temp['media_product_type'] == 'FEED']['comments_count'])\n",
        "print('\\n\\nPosts feed: ', post_feed_instagram, '\\nLikes feed: ', likes_feed, '\\nComentarios feed: ', comentarios_feed)\n",
        "\n",
        "reels_instagram = len(df_temp[df_temp['media_product_type'] == 'REELS'])\n",
        "likes_reels = sum(df_temp[df_temp['media_product_type'] == 'REELS']['like_count'])\n",
        "comentarios_reels = sum(df_temp[df_temp['media_product_type'] == 'REELS']['comments_count'])\n",
        "print('\\n\\nReels postados: ', reels_instagram, '\\nLikes reels: ', likes_reels, '\\nComentarios reels: ', comentarios_reels)\n",
        "\n",
        "profile_impressions = profile_data_json['data'][0]['values'][0]['value']\n",
        "profile_reach = profile_data_json['data'][1]['values'][0]['value']\n",
        "print('\\n\\nImpressões do perfil: ', profile_impressions, '\\nAlcance do perfil: ', profile_reach)"
      ],
      "metadata": {
        "id": "jgwUUBY6pixQ"
      },
      "execution_count": null,
      "outputs": []
    }
  ]
}